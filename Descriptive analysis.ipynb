{
 "cells": [
  {
   "cell_type": "code",
   "execution_count": 5,
   "metadata": {},
   "outputs": [
    {
     "name": "stdout",
     "output_type": "stream",
     "text": [
      "             EventId   DER_mass_MMC  DER_mass_transverse_met_lep  \\\n",
      "count  818238.000000  818238.000000                818238.000000   \n",
      "mean   509118.500000     -48.819019                    49.252714   \n",
      "std    236205.109118     406.118397                    35.378609   \n",
      "min    100000.000000    -999.000000                     0.000000   \n",
      "25%    304559.250000      78.166000                    19.304000   \n",
      "50%    509118.500000     105.061000                    46.484000   \n",
      "75%    713677.750000     130.730000                    73.620000   \n",
      "max    918237.000000    1949.261000                   968.669000   \n",
      "\n",
      "        DER_mass_vis       DER_pt_h  DER_deltaeta_jet_jet  DER_mass_jet_jet  \\\n",
      "count  818238.000000  818238.000000         818238.000000     818238.000000   \n",
      "mean       81.140561      57.849524           -707.740880       -600.191191   \n",
      "std        40.582708      63.411938            454.793899        658.724040   \n",
      "min         6.329000       0.000000           -999.000000       -999.000000   \n",
      "25%        59.414000      14.164250           -999.000000       -999.000000   \n",
      "50%        73.744000      38.470000           -999.000000       -999.000000   \n",
      "75%        92.188000      79.226750              0.499000         84.031750   \n",
      "max      1349.351000    2834.999000              8.724000       4974.979000   \n",
      "\n",
      "       DER_prodeta_jet_jet  DER_deltar_tau_lep     DER_pt_tot      ...        \\\n",
      "count        818238.000000       818238.000000  818238.000000      ...         \n",
      "mean           -708.681306            2.373871      18.969617      ...         \n",
      "std             453.328599            0.780875      21.918491      ...         \n",
      "min            -999.000000            0.208000       0.000000      ...         \n",
      "25%            -999.000000            1.814000       2.839000      ...         \n",
      "50%            -999.000000            2.492000      12.383000      ...         \n",
      "75%              -4.548000            2.962000      27.634000      ...         \n",
      "max              17.650000            5.751000    2834.999000      ...         \n",
      "\n",
      "         PRI_jet_num  PRI_jet_leading_pt  PRI_jet_leading_eta  \\\n",
      "count  818238.000000       818238.000000        818238.000000   \n",
      "mean        0.979923         -348.757840          -399.693294   \n",
      "std         0.978793          533.097006           489.428560   \n",
      "min         0.000000         -999.000000          -999.000000   \n",
      "25%         0.000000         -999.000000          -999.000000   \n",
      "50%         1.000000           38.965000            -1.865000   \n",
      "75%         2.000000           75.470750             0.432000   \n",
      "max         3.000000         1163.439000             4.500000   \n",
      "\n",
      "       PRI_jet_leading_phi  PRI_jet_subleading_pt  PRI_jet_subleading_eta  \\\n",
      "count        818238.000000          818238.000000           818238.000000   \n",
      "mean           -399.703858            -691.626111             -708.442206   \n",
      "std             489.420013             480.274744              453.699150   \n",
      "min            -999.000000            -999.000000             -999.000000   \n",
      "25%            -999.000000            -999.000000             -999.000000   \n",
      "50%              -2.105000            -999.000000             -999.000000   \n",
      "75%               0.489000              33.800000               -2.436000   \n",
      "max               3.142000             817.801000                4.500000   \n",
      "\n",
      "       PRI_jet_subleading_phi  PRI_jet_all_pt         Weight   KaggleWeight  \n",
      "count           818238.000000   818238.000000  818238.000000  818238.000000  \n",
      "mean              -708.443312       73.205594       0.503144       2.012577  \n",
      "std                453.697158       98.331754       0.572200       5.439641  \n",
      "min               -999.000000        0.000000       0.000461       0.000839  \n",
      "25%               -999.000000        0.000000       0.005721       0.010415  \n",
      "50%               -999.000000       40.506000       0.357223       0.806562  \n",
      "75%                 -2.265000      110.387000       0.733462       2.360271  \n",
      "max                  3.142000     1860.175000       2.386316     106.908407  \n",
      "\n",
      "[8 rows x 33 columns]\n"
     ]
    }
   ],
   "source": [
    "# Descriptive analysis\n",
    "\n",
    "import numpy as np\n",
    "import pandas as pd\n",
    "import matplotlib.pyplot as plt\n",
    "\n",
    "# load data\n",
    "data = pd.read_csv(\"atlas-higgs-challenge-2014-v2.csv\")\n",
    "\n",
    "# summary\n",
    "print(data.describe())"
   ]
  },
  {
   "cell_type": "markdown",
   "metadata": {},
   "source": [
    "### Columns"
   ]
  },
  {
   "cell_type": "code",
   "execution_count": 4,
   "metadata": {},
   "outputs": [
    {
     "name": "stdout",
     "output_type": "stream",
     "text": [
      "Index(['EventId', 'DER_mass_MMC', 'DER_mass_transverse_met_lep',\n",
      "       'DER_mass_vis', 'DER_pt_h', 'DER_deltaeta_jet_jet', 'DER_mass_jet_jet',\n",
      "       'DER_prodeta_jet_jet', 'DER_deltar_tau_lep', 'DER_pt_tot', 'DER_sum_pt',\n",
      "       'DER_pt_ratio_lep_tau', 'DER_met_phi_centrality',\n",
      "       'DER_lep_eta_centrality', 'PRI_tau_pt', 'PRI_tau_eta', 'PRI_tau_phi',\n",
      "       'PRI_lep_pt', 'PRI_lep_eta', 'PRI_lep_phi', 'PRI_met', 'PRI_met_phi',\n",
      "       'PRI_met_sumet', 'PRI_jet_num', 'PRI_jet_leading_pt',\n",
      "       'PRI_jet_leading_eta', 'PRI_jet_leading_phi', 'PRI_jet_subleading_pt',\n",
      "       'PRI_jet_subleading_eta', 'PRI_jet_subleading_phi', 'PRI_jet_all_pt',\n",
      "       'Weight', 'Label', 'KaggleSet', 'KaggleWeight'],\n",
      "      dtype='object')\n"
     ]
    }
   ],
   "source": [
    "print(data.columns)"
   ]
  },
  {
   "cell_type": "code",
   "execution_count": 11,
   "metadata": {},
   "outputs": [
    {
     "data": {
      "image/png": "[encoded data removed]",
      "text/plain": [
       "<matplotlib.figure.Figure at 0x113b0ca90>"
      ]
     },
     "metadata": {},
     "output_type": "display_data"
    }
   ],
   "source": [
    "plt.plot(data.index, data.PRI_lep_eta)\n",
    "\n",
    "# Plot plt.hist\n",
    "\n",
    "plt.show()"
   ]
  },
  {
   "cell_type": "code",
   "execution_count": 12,
   "metadata": {},
   "outputs": [
    {
     "name": "stdout",
     "output_type": "stream",
     "text": [
      "   EventId  DER_mass_MMC  DER_mass_transverse_met_lep  DER_mass_vis  DER_pt_h  \\\n",
      "0   100000       138.470                       51.655        97.827    27.980   \n",
      "1   100001       160.937                       68.768       103.235    48.146   \n",
      "2   100002      -999.000                      162.172       125.953    35.635   \n",
      "3   100003       143.905                       81.417        80.943     0.414   \n",
      "4   100004       175.864                       16.915       134.805    16.405   \n",
      "\n",
      "   DER_deltaeta_jet_jet  DER_mass_jet_jet  DER_prodeta_jet_jet  \\\n",
      "0                  0.91           124.711                2.666   \n",
      "1               -999.00          -999.000             -999.000   \n",
      "2               -999.00          -999.000             -999.000   \n",
      "3               -999.00          -999.000             -999.000   \n",
      "4               -999.00          -999.000             -999.000   \n",
      "\n",
      "   DER_deltar_tau_lep  DER_pt_tot      ...       PRI_jet_leading_eta  \\\n",
      "0               3.064      41.928      ...                     2.150   \n",
      "1               3.473       2.078      ...                     0.725   \n",
      "2               3.148       9.336      ...                     2.053   \n",
      "3               3.310       0.414      ...                  -999.000   \n",
      "4               3.891      16.405      ...                  -999.000   \n",
      "\n",
      "   PRI_jet_leading_phi  PRI_jet_subleading_pt  PRI_jet_subleading_eta  \\\n",
      "0                0.444                 46.062                    1.24   \n",
      "1                1.158               -999.000                 -999.00   \n",
      "2               -2.028               -999.000                 -999.00   \n",
      "3             -999.000               -999.000                 -999.00   \n",
      "4             -999.000               -999.000                 -999.00   \n",
      "\n",
      "   PRI_jet_subleading_phi  PRI_jet_all_pt    Weight  Label  KaggleSet  \\\n",
      "0                  -2.475         113.497  0.000814      s          t   \n",
      "1                -999.000          46.226  0.681042      b          t   \n",
      "2                -999.000          44.251  0.715742      b          t   \n",
      "3                -999.000          -0.000  1.660654      b          t   \n",
      "4                -999.000           0.000  1.904263      b          t   \n",
      "\n",
      "   KaggleWeight  \n",
      "0      0.002653  \n",
      "1      2.233584  \n",
      "2      2.347389  \n",
      "3      5.446378  \n",
      "4      6.245333  \n",
      "\n",
      "[5 rows x 35 columns]\n"
     ]
    }
   ],
   "source": [
    "print(data.head())"
   ]
  },
  {
   "cell_type": "code",
   "execution_count": 14,
   "metadata": {},
   "outputs": [
    {
     "name": "stdout",
     "output_type": "stream",
     "text": [
      "False\n"
     ]
    }
   ],
   "source": [
    "# check if there are any NaN's in the data set\n",
    "print(data.isnull().values.any())"
   ]
  },
  {
   "cell_type": "code",
   "execution_count": null,
   "metadata": {},
   "outputs": [],
   "source": []
  }
 ],
 "metadata": {
  "kernelspec": {
   "display_name": "Python 3",
   "language": "python",
   "name": "python3"
  },
  "language_info": {
   "codemirror_mode": {
    "name": "ipython",
    "version": 3
   },
   "file_extension": ".py",
   "mimetype": "text/x-python",
   "name": "python",
   "nbconvert_exporter": "python",
   "pygments_lexer": "ipython3",
   "version": "3.6.3"
  }
 },
 "nbformat": 4,
 "nbformat_minor": 2
}
